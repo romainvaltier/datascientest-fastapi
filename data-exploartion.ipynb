{
 "cells": [
  {
   "cell_type": "code",
   "execution_count": 1,
   "metadata": {},
   "outputs": [
    {
     "name": "stdout",
     "output_type": "stream",
     "text": [
      "Requirement already satisfied: pandas in /home/romainvaltier/.local/lib/python3.9/site-packages (1.4.4)\n",
      "Requirement already satisfied: numpy>=1.19.2 in /usr/lib/python3/dist-packages (from pandas) (1.19.5)\n",
      "Requirement already satisfied: python-dateutil>=2.8.1 in /home/romainvaltier/.local/lib/python3.9/site-packages (from pandas) (2.8.2)\n",
      "Requirement already satisfied: pytz>=2020.1 in /home/romainvaltier/.local/lib/python3.9/site-packages (from pandas) (2022.2.1)\n",
      "Requirement already satisfied: six>=1.5 in /usr/lib/python3/dist-packages (from python-dateutil>=2.8.1->pandas) (1.16.0)\n",
      "Note: you may need to restart the kernel to use updated packages.\n"
     ]
    }
   ],
   "source": [
    "%pip install pandas"
   ]
  },
  {
   "cell_type": "code",
   "execution_count": 2,
   "metadata": {},
   "outputs": [],
   "source": [
    "import pandas as pd\n"
   ]
  },
  {
   "cell_type": "code",
   "execution_count": 3,
   "metadata": {},
   "outputs": [
    {
     "data": {
      "text/html": [
       "<div>\n",
       "<style scoped>\n",
       "    .dataframe tbody tr th:only-of-type {\n",
       "        vertical-align: middle;\n",
       "    }\n",
       "\n",
       "    .dataframe tbody tr th {\n",
       "        vertical-align: top;\n",
       "    }\n",
       "\n",
       "    .dataframe thead th {\n",
       "        text-align: right;\n",
       "    }\n",
       "</style>\n",
       "<table border=\"1\" class=\"dataframe\">\n",
       "  <thead>\n",
       "    <tr style=\"text-align: right;\">\n",
       "      <th></th>\n",
       "      <th>question</th>\n",
       "      <th>subject</th>\n",
       "      <th>use</th>\n",
       "      <th>correct</th>\n",
       "      <th>responseA</th>\n",
       "      <th>responseB</th>\n",
       "      <th>responseC</th>\n",
       "      <th>responseD</th>\n",
       "      <th>remark</th>\n",
       "    </tr>\n",
       "  </thead>\n",
       "  <tbody>\n",
       "    <tr>\n",
       "      <th>0</th>\n",
       "      <td>Que signifie le sigle No-SQL ?</td>\n",
       "      <td>BDD</td>\n",
       "      <td>Test de positionnement</td>\n",
       "      <td>A</td>\n",
       "      <td>Pas seulement SQL</td>\n",
       "      <td>Pas de SQL</td>\n",
       "      <td>Pas tout SQL</td>\n",
       "      <td>NaN</td>\n",
       "      <td>NaN</td>\n",
       "    </tr>\n",
       "    <tr>\n",
       "      <th>1</th>\n",
       "      <td>Cassandra et HBase sont des bases de données</td>\n",
       "      <td>BDD</td>\n",
       "      <td>Test de positionnement</td>\n",
       "      <td>C</td>\n",
       "      <td>relationnelles</td>\n",
       "      <td>orientées objet</td>\n",
       "      <td>orientées colonne</td>\n",
       "      <td>orientées graphe</td>\n",
       "      <td>NaN</td>\n",
       "    </tr>\n",
       "    <tr>\n",
       "      <th>2</th>\n",
       "      <td>MongoDB et CouchDB sont des bases de données</td>\n",
       "      <td>BDD</td>\n",
       "      <td>Test de positionnement</td>\n",
       "      <td>B</td>\n",
       "      <td>relationnelles</td>\n",
       "      <td>orientées objet</td>\n",
       "      <td>orientées colonne</td>\n",
       "      <td>orientées graphe</td>\n",
       "      <td>NaN</td>\n",
       "    </tr>\n",
       "    <tr>\n",
       "      <th>3</th>\n",
       "      <td>OrientDB et Neo4J sont des bases de données</td>\n",
       "      <td>BDD</td>\n",
       "      <td>Test de positionnement</td>\n",
       "      <td>D</td>\n",
       "      <td>relationnelles</td>\n",
       "      <td>orientées objet</td>\n",
       "      <td>orientées colonne</td>\n",
       "      <td>orientées graphe</td>\n",
       "      <td>NaN</td>\n",
       "    </tr>\n",
       "    <tr>\n",
       "      <th>4</th>\n",
       "      <td>Pour indexer des données textuelles, je peux u...</td>\n",
       "      <td>BDD</td>\n",
       "      <td>Test de positionnement</td>\n",
       "      <td>A</td>\n",
       "      <td>ElasticSearch</td>\n",
       "      <td>Neo4J</td>\n",
       "      <td>MySQL</td>\n",
       "      <td>NaN</td>\n",
       "      <td>NaN</td>\n",
       "    </tr>\n",
       "  </tbody>\n",
       "</table>\n",
       "</div>"
      ],
      "text/plain": [
       "                                            question subject  \\\n",
       "0                     Que signifie le sigle No-SQL ?     BDD   \n",
       "1       Cassandra et HBase sont des bases de données     BDD   \n",
       "2       MongoDB et CouchDB sont des bases de données     BDD   \n",
       "3        OrientDB et Neo4J sont des bases de données     BDD   \n",
       "4  Pour indexer des données textuelles, je peux u...     BDD   \n",
       "\n",
       "                      use correct          responseA        responseB  \\\n",
       "0  Test de positionnement       A  Pas seulement SQL       Pas de SQL   \n",
       "1  Test de positionnement       C     relationnelles  orientées objet   \n",
       "2  Test de positionnement       B     relationnelles  orientées objet   \n",
       "3  Test de positionnement       D     relationnelles  orientées objet   \n",
       "4  Test de positionnement       A      ElasticSearch            Neo4J   \n",
       "\n",
       "           responseC         responseD remark  \n",
       "0       Pas tout SQL               NaN    NaN  \n",
       "1  orientées colonne  orientées graphe    NaN  \n",
       "2  orientées colonne  orientées graphe    NaN  \n",
       "3  orientées colonne  orientées graphe    NaN  \n",
       "4              MySQL               NaN    NaN  "
      ]
     },
     "execution_count": 3,
     "metadata": {},
     "output_type": "execute_result"
    }
   ],
   "source": [
    "df = pd.read_csv(\"https://dst-de.s3.eu-west-3.amazonaws.com/fastapi_fr/questions.csv\", sep=\",\", header=0)\n",
    "\n",
    "df.head()\n"
   ]
  },
  {
   "cell_type": "code",
   "execution_count": 4,
   "metadata": {},
   "outputs": [],
   "source": [
    "lst = df[[\"subject\", \"use\"]].value_counts()"
   ]
  },
  {
   "cell_type": "code",
   "execution_count": 5,
   "metadata": {},
   "outputs": [
    {
     "data": {
      "text/plain": [
       "pandas.core.series.Series"
      ]
     },
     "execution_count": 5,
     "metadata": {},
     "output_type": "execute_result"
    }
   ],
   "source": [
    "type(lst)"
   ]
  },
  {
   "cell_type": "code",
   "execution_count": 6,
   "metadata": {},
   "outputs": [],
   "source": [
    "# questions database\n",
    "questions_db = pd.read_csv(\n",
    "    \"https://dst-de.s3.eu-west-3.amazonaws.com/fastapi_fr/questions.csv\",\n",
    "    sep=\",\",\n",
    "    header=0,\n",
    ")\n"
   ]
  },
  {
   "cell_type": "code",
   "execution_count": 8,
   "metadata": {},
   "outputs": [
    {
     "data": {
      "text/plain": [
       "'{\"0\":{\"question\":\"Que signifie le sigle No-SQL ?\",\"subject\":\"BDD\",\"use\":\"Test de positionnement\",\"correct\":\"A\",\"responseA\":\"Pas seulement SQL\",\"responseB\":\"Pas de SQL\",\"responseC\":\"Pas tout SQL\",\"responseD\":null,\"remark\":null},\"1\":{\"question\":\"Cassandra et HBase sont des bases de données\",\"subject\":\"BDD\",\"use\":\"Test de positionnement\",\"correct\":\"C\",\"responseA\":\"relationnelles\",\"responseB\":\"orientées objet\",\"responseC\":\"orientées colonne\",\"responseD\":\"orientées graphe\",\"remark\":null},\"2\":{\"question\":\"MongoDB et CouchDB sont des bases de données\",\"subject\":\"BDD\",\"use\":\"Test de positionnement\",\"correct\":\"B\",\"responseA\":\"relationnelles\",\"responseB\":\"orientées objet\",\"responseC\":\"orientées colonne\",\"responseD\":\"orientées graphe\",\"remark\":null},\"3\":{\"question\":\"OrientDB et Neo4J sont des bases de données\",\"subject\":\"BDD\",\"use\":\"Test de positionnement\",\"correct\":\"D\",\"responseA\":\"relationnelles\",\"responseB\":\"orientées objet\",\"responseC\":\"orientées colonne\",\"responseD\":\"orientées graphe\",\"remark\":null},\"4\":{\"question\":\"Pour indexer des données textuelles, je peux utiliser\",\"subject\":\"BDD\",\"use\":\"Test de positionnement\",\"correct\":\"A\",\"responseA\":\"ElasticSearch\",\"responseB\":\"Neo4J\",\"responseC\":\"MySQL\",\"responseD\":null,\"remark\":null},\"5\":{\"question\":\"A quoi faire attention lorsqu\\'on choisit un système de base de données ?\",\"subject\":\"BDD\",\"use\":\"Test de positionnement\",\"correct\":\"D\",\"responseA\":\"La définition d\\'un schéma\",\"responseB\":\"La rapidité de lecture\\\\/écriture\",\"responseC\":\"La différenciation des accés\",\"responseD\":\"Tous ces points\",\"remark\":null},\"6\":{\"question\":\"Quels sont les trois éléments constitutifs de Hadoop ?\",\"subject\":\"Systèmes distribués\",\"use\":\"Test de positionnement\",\"correct\":\"A\",\"responseA\":\"HDFS, YARN et Haddoop MapReduce\",\"responseB\":\"Hive, LOL et Spark\",\"responseC\":\"Spark, Hadoop MapReduce et Hive\",\"responseD\":null,\"remark\":null},\"7\":{\"question\":\"Lors de l\\'étape de Map d\\'un wordcount appliqué à la phrase \\\\\"cette phrase est une phrase\\\\\", les valeurs émises sont:\",\"subject\":\"Systèmes distribués\",\"use\":\"Test de positionnement\",\"correct\":\"B\",\"responseA\":\"1, 2, 1, 1\",\"responseB\":\"1, 1, 1, 1, 1, 1\",\"responseC\":\"5, 0, 0, 0, 0\",\"responseD\":null,\"remark\":null},\"8\":{\"question\":\"Dans Hadoop, les combiners permettent\",\"subject\":\"Systèmes distribués\",\"use\":\"Test de positionnement\",\"correct\":\"C\",\"responseA\":\"de combiner les entrées et les sorties\",\"responseB\":\"de mieux distribuer la charge lors de la phase de Shuffle\",\"responseC\":\"de limiter le nombre de valeurs émises lors de l\\'étape de Reduce\",\"responseD\":null,\"remark\":null},\"9\":{\"question\":\"Dans Hadoop, les partitioners permettent\",\"subject\":\"Systèmes distribués\",\"use\":\"Test de positionnement\",\"correct\":\"B\",\"responseA\":\"de combiner les entrées et les sorties\",\"responseB\":\"de mieux distribuer la charge lors de la phase de Shuffle\",\"responseC\":\"de limiter le nombre de valeurs émises lors de l\\'étape de Reduce\",\"responseD\":null,\"remark\":null},\"10\":{\"question\":\"Le théorème CAP oppose\",\"subject\":\"Systèmes distribués\",\"use\":\"Test de positionnement\",\"correct\":\"B\",\"responseA\":\"Capacité, Vitesse, Distribution\",\"responseB\":\"Disponibilité, Cohérence, Distribution\",\"responseC\":\"Cohérence, Adaptabilité, Puissance\",\"responseD\":null,\"remark\":null},\"11\":{\"question\":\"Hive permet\",\"subject\":\"Systèmes distribués\",\"use\":\"Test de positionnement\",\"correct\":\"A\",\"responseA\":\"d\\'abstraire une base de données relationnelle\",\"responseB\":\"de classer les documents par ordre d\\'importance\",\"responseC\":\"d\\'orchestrer des clusters de machine\",\"responseD\":null,\"remark\":null},\"12\":{\"question\":\"Spark se différencie de Hadoop par\",\"subject\":\"Systèmes distribués\",\"use\":\"Test de positionnement\",\"correct\":\"D\",\"responseA\":\"son absence de système de stockage\",\"responseB\":\"ses nombreuses librairies notamment de Machine Learning\",\"responseC\":\"l\\'écriture en mémoire plutôt que sur disque lors de la phase de Shuffle\",\"responseD\":\"Tous ces points\",\"remark\":null},\"13\":{\"question\":\"Un système de messagerie asynchrone permet de décorréler les consommateurs et les producteurs\",\"subject\":\"Streaming de données\",\"use\":\"Test de positionnement\",\"correct\":\"A\",\"responseA\":\"Vrai\",\"responseB\":\"Faux\",\"responseC\":null,\"responseD\":null,\"remark\":null},\"14\":{\"question\":\"Kafka est système de messagerie\",\"subject\":\"Streaming de données\",\"use\":\"Test de positionnement\",\"correct\":\"D\",\"responseA\":\"distribué\",\"responseB\":\"asynchrone\",\"responseC\":\"publication\\\\/abonnement\",\"responseD\":\"Tous ces points\",\"remark\":null},\"15\":{\"question\":\"L\\'architecture lambda présente les couches\",\"subject\":\"Streaming de données\",\"use\":\"Test de positionnement\",\"correct\":\"D\",\"responseA\":\"batch\",\"responseB\":\"temps réel\",\"responseC\":\"service\",\"responseD\":\"Tous ces points\",\"remark\":null},\"16\":{\"question\":\"Docker est utilisé\",\"subject\":\"Docker\",\"use\":\"Test de positionnement\",\"correct\":\"A\",\"responseA\":\"pour développer rapidement et mettre en production facilement\",\"responseB\":\"pour améliorer les capacités d\\'une base de données\",\"responseC\":\"pour améliorer la puissance de calcul\",\"responseD\":null,\"remark\":null},\"17\":{\"question\":\"Docker permet de persister des changements\",\"subject\":\"Docker\",\"use\":\"Test de positionnement\",\"correct\":\"C\",\"responseA\":\"Oui\",\"responseB\":\"Non\",\"responseC\":\"Oui à condition d\\'utiliser des volumes\",\"responseD\":null,\"remark\":null},\"18\":{\"question\":\"Des containers Docker peuvent communiquer entre eux grâce à\",\"subject\":\"Docker\",\"use\":\"Test de positionnement\",\"correct\":\"B\",\"responseA\":\"des volumes\",\"responseB\":\"des networks\",\"responseC\":\"des communications \",\"responseD\":null,\"remark\":null},\"19\":{\"question\":\"DockerHub est\",\"subject\":\"Docker\",\"use\":\"Test de positionnement\",\"correct\":\"C\",\"responseA\":\"un système qui permet de lancer plusieurs containers d\\'un coup\",\"responseB\":\"un système d\\'orchestration de containers\",\"responseC\":\"un répertoire d\\'images Docker\",\"responseD\":null,\"remark\":null},\"20\":{\"question\":\"Docker-compose est \",\"subject\":\"Docker\",\"use\":\"Test de positionnement\",\"correct\":\"A\",\"responseA\":\"un système qui permet de lancer plusieurs containers d\\'un coup\",\"responseB\":\"un système d\\'orchestration de containers\",\"responseC\":\"un répertoire d\\'images Docker\",\"responseD\":null,\"remark\":null},\"21\":{\"question\":\"Lequel de ces problème est un problème de classification:\",\"subject\":\"Classification\",\"use\":\"Test de validation\",\"correct\":\"C\",\"responseA\":\"Segmentation clients\",\"responseB\":\"Calcul de prix optimal\",\"responseC\":\"Prédiction du caractère bénin d’une tumeur\",\"responseD\":null,\"remark\":null},\"22\":{\"question\":\"Lequel de ces problème est un problème de classification\",\"subject\":\"Classification\",\"use\":\"Test de validation\",\"correct\":\"B\",\"responseA\":\"Estimation du prix d’une oeuvre d’art\",\"responseB\":\"Prédiction du départ d’un client\",\"responseC\":\"Modélisation des flux d’air autour d’un réacteur\",\"responseD\":null,\"remark\":null},\"23\":{\"question\":\"Lequel de ces problème est un problème de classification\",\"subject\":\"Classification\",\"use\":\"Test de validation\",\"correct\":\"B,C\",\"responseA\":\"Labellisation d’une image\",\"responseB\":\"Reconnaissance d’objet\",\"responseC\":\"Génération automatique de mots\",\"responseD\":null,\"remark\":null},\"24\":{\"question\":\"Est-ce que les algorithmes de classification permettent de donner une probabilité d’appartenance à une classe plutôt que simplement l’étiquette?\",\"subject\":\"Classification\",\"use\":\"Test de validation\",\"correct\":\"A\",\"responseA\":\"Oui, c’est en général la base de tous les algorithmes de classification\",\"responseB\":\"Non, ce problème est un problème de régression\",\"responseC\":null,\"responseD\":null,\"remark\":null},\"25\":{\"question\":\"Quelle métrique est utilisée en classification ?\",\"subject\":\"Classification\",\"use\":\"Test de validation\",\"correct\":\"A\",\"responseA\":\"Le F1-score\",\"responseB\":\"Le RMSE\",\"responseC\":\"La perplexité\",\"responseD\":null,\"remark\":null},\"26\":{\"question\":\"Quel algorithme est mieux adapté à un jeu de données majoritairement composé de variables qualitatives?\",\"subject\":\"Classification\",\"use\":\"Test de validation\",\"correct\":\"C\",\"responseA\":\"SVM\",\"responseB\":\"Régression Logistique\",\"responseC\":\"Arbre de décision\",\"responseD\":null,\"remark\":null},\"27\":{\"question\":\"Dans un problème de fraude bancaire, la précision est-elle une métrique adaptée?\\\\n\",\"subject\":\"Classification\",\"use\":\"Test de validation\",\"correct\":\"B\",\"responseA\":\"Oui puisque c’est un problème de classification.\",\"responseB\":\"Non car le déséquilibre des deux classes ne permet pas une amélioration significative de cette métrique\",\"responseC\":null,\"responseD\":null,\"remark\":null},\"28\":{\"question\":\"De donner une meilleure métrique dans toutes les situations\",\"subject\":\"Classification\",\"use\":\"Test de validation\",\"correct\":\"C\",\"responseA\":\"De donner une meilleure métrique dans toutes les situations\",\"responseB\":\"D’être plus facilement interprétable \",\"responseC\":\"D’identifier facilement des proportions d’observations en fonction de leur probabilité\",\"responseD\":null,\"remark\":null},\"29\":{\"question\":\"La spécificité est définie par (V: vrai, F: faux, P: positif, N: négatif) : \",\"subject\":\"Classification\",\"use\":\"Test de validation\",\"correct\":\"B\",\"responseA\":\"(VP + VN) \\\\/ (VP + VN + FN + FP)\",\"responseB\":\"VN \\\\/ (VN + FP)\",\"responseC\":\"VP \\\\/ (VP + FN)\",\"responseD\":null,\"remark\":null},\"30\":{\"question\":\"La sensibilité est définie par (V: vrai, F: faux, P: positif, N: négatif) : \",\"subject\":\"Classification\",\"use\":\"Test de validation\",\"correct\":\"C\",\"responseA\":\"(VP + VN) \\\\/ (VP + VN + FN + FP)\",\"responseB\":\"VN \\\\/ (VN + FP)\",\"responseC\":\"VP \\\\/ (VP + FN)\",\"responseD\":null,\"remark\":null},\"31\":{\"question\":\"Hadoop permet de: \",\"subject\":\"Systèmes distribués\",\"use\":\"Test de validation\",\"correct\":\"D\",\"responseA\":\"Stocker des données\",\"responseB\":\"Faire des calculs\",\"responseC\":\"Orchestrer des jobs MapReduce\",\"responseD\":\"Tous ces points\",\"remark\":null},\"32\":{\"question\":\"Dans le paradigme MapReduce, les combiners servent à: \",\"subject\":\"Systèmes distribués\",\"use\":\"Test de validation\",\"correct\":\"B\",\"responseA\":\"Équilibrer la charge de travail des reducers\",\"responseB\":\"Diminuer le nombre de valeurs à émettre des mappers aux reducers\",\"responseC\":\"Accélérer les calculs\",\"responseD\":\"Tous ces points\",\"remark\":null},\"33\":{\"question\":\"Dans le paradigme MapReduce, les partitioners servent à: \",\"subject\":\"Systèmes distribués\",\"use\":\"Test de validation\",\"correct\":\"A\",\"responseA\":\"Équilibrer la charge de travail des reducers\",\"responseB\":\"Diminuer le nombre de valeurs à émettre des mappers aux reducers\",\"responseC\":\"Accélérer les calculs\",\"responseD\":\"Tous ces points\",\"remark\":null},\"34\":{\"question\":\"L\\'utilisation de systèmes distrubués permet\",\"subject\":\"Systèmes distribués\",\"use\":\"Test de validation\",\"correct\":\"D\",\"responseA\":\"D\\'accélérer les calculs \",\"responseB\":\"De sécuriser l\\'accés aux données\",\"responseC\":\"D\\'augmenter facilement la capacité de stockage\",\"responseD\":\"Tous ces points\",\"remark\":null},\"35\":{\"question\":\"Hadoop streaming est un outil qui permet\",\"subject\":\"Systèmes distribués\",\"use\":\"Test de validation\",\"correct\":\"A\",\"responseA\":\"De faire des jobs MapReduce avec n\\'importe quel langage de programmation\",\"responseB\":\"De faire du traitement de données en temps réel \",\"responseC\":\"De stocker plusieurs copies d\\'un jeu de données\",\"responseD\":\"De stocker des vidéos sur un système distribué\",\"remark\":null},\"36\":{\"question\":\"Dans le cas d\\'une architecture distribuée, le théorème CAP nous oblige à choisir entre:\",\"subject\":\"Systèmes distribués\",\"use\":\"Test de validation\",\"correct\":\"A\",\"responseA\":\"Cohérence et Disponibilité\",\"responseB\":\"Partition et Cohérence\",\"responseC\":\"Partition et Disponibilité\",\"responseD\":null,\"remark\":null},\"37\":{\"question\":\"Hive est \",\"subject\":\"Sytèmes distribués\",\"use\":\"Test de validation\",\"correct\":\"B\",\"responseA\":\"Un système de gestion de bases de données relationnelles\",\"responseB\":\"Une abstraction de SGDB relationnelles\",\"responseC\":\"Une librairie de Hadoop\",\"responseD\":null,\"remark\":null},\"38\":{\"question\":\"Pour Hive, partitioner consiste à \",\"subject\":\"Systèmes distribués\",\"use\":\"Test de validation\",\"correct\":\"C\",\"responseA\":\"Découper les tables en block de taille pré-définie\",\"responseB\":\"Découper les tables par colonnes\",\"responseC\":\"Découper les tables selon les valeurs d\\'une variable\",\"responseD\":null,\"remark\":null},\"39\":{\"question\":\"Pig permet\",\"subject\":\"Systèmes distribués\",\"use\":\"Test de validation\",\"correct\":\"A\",\"responseA\":\"De rendre l\\'écriture de jobs MapReduce plus simple et plus intuitive\",\"responseB\":\"D\\'accélérer les calculs effectués sur Hadoop \",\"responseC\":\"D\\'orchestrer Hive\",\"responseD\":\"Tous ces points\",\"remark\":null},\"40\":{\"question\":\"Sqoop est utilisé\",\"subject\":\"Systèmes distribués\",\"use\":\"Test de validation\",\"correct\":\"A\",\"responseA\":\"Pour transférer des données depuis des SGDBR vers HDFS et inversement\",\"responseB\":\"De faire des calculs en temps réel \",\"responseC\":\"D\\'automatiser des jobs Map Reduce\",\"responseD\":\"Tous ces points\",\"remark\":null},\"41\":{\"question\":\"Data science is ...\",\"subject\":\"Data Science\",\"use\":\"Total Bootcamp\",\"correct\":\"A\",\"responseA\":\"A set of techniques and tools used to get value out of data.\",\"responseB\":\"A scientific approach of data acquisition.\",\"responseC\":\"A set of empirical approachs used to define theoretical formulas and \\\\/or equations thanks to data.\",\"responseD\":null,\"remark\":null},\"42\":{\"question\":\"Its applications are ...\",\"subject\":\"Data Science\",\"use\":\"Total Bootcamp\",\"correct\":\"A\",\"responseA\":\"Limited to a small amount of fields and use cases.\",\"responseB\":\"Close to unlimited and find use cases in almost every known fields where data can be collected.\",\"responseC\":null,\"responseD\":null,\"remark\":null},\"43\":{\"question\":\"What are the first things you want to do when you start a Data Science project ?\",\"subject\":\"Data Science\",\"use\":\"Total Bootcamp\",\"correct\":\"A C\",\"responseA\":\"Define the problem.\",\"responseB\":\"Choose the model you want to implement.\",\"responseC\":\"Obtain the data and check if it fits our standard.\",\"responseD\":\"Ask Paul what to do next.\",\"remark\":null},\"44\":{\"question\":\"Are every datasets worth a Data Science project ?\",\"subject\":\"Data Science\",\"use\":\"Total Bootcamp\",\"correct\":\"A\",\"responseA\":\"No.\",\"responseB\":\"If it\\'s big enough, yes.\",\"responseC\":\"Yes.\",\"responseD\":null,\"remark\":null},\"45\":{\"question\":\"When the dataset is all set and obtained, what do you need to do ?\",\"subject\":\"Data Science\",\"use\":\"Total Bootcamp\",\"correct\":\"B C\",\"responseA\":\"Run a model on it and then  do a series of statistical tests on it.\",\"responseB\":\"Explore it and do a series of statistical tests on it.\",\"responseC\":\"Pre-process it by cleaning it of missing values or irrelevant data.\",\"responseD\":null,\"remark\":null},\"46\":{\"question\":\"What are the best tools you can use when starting a project?\",\"subject\":\"Data Science\",\"use\":\"Total Bootcamp\",\"correct\":\"A B C D \",\"responseA\":\"Data Visualization.\",\"responseB\":\"Statistical tests.\",\"responseC\":\"Expert intuitions. \",\"responseD\":\"Correlation matrix \",\"remark\":\"Gut feelings. \"},\"47\":{\"question\":\"When building a model, you have to\",\"subject\":\"Data Science\",\"use\":\"Total Bootcamp\",\"correct\":\"B\",\"responseA\":\"Look out for parameters that can be optimized and optimze them.\",\"responseB\":\"Train it on all the data available.\",\"responseC\":null,\"responseD\":null,\"remark\":null},\"48\":{\"question\":\"Your model is all done and working, what\\'s next?\",\"subject\":\"Data Science\",\"use\":\"Total Bootcamp\",\"correct\":\"B\",\"responseA\":\"My project is done ! \",\"responseB\":\"Analyze the results and tune the existing model to fit best the problem defined initially.\",\"responseC\":null,\"responseD\":null,\"remark\":null},\"49\":{\"question\":\"What is Machine learning ?\",\"subject\":\"Machine Learning\",\"use\":\"Total Bootcamp\",\"correct\":\"B\",\"responseA\":\"The phenomenon in which an algorithm realizes it is not paid enough and puts itself on a strike.\",\"responseB\":\"An application of artificial intelligence that provides systems the ability to automatically learn and improve from experience without being explicitly programmed.\",\"responseC\":\"Exactly what Datascientest offers : a way to learn through machines.\",\"responseD\":\"When an algorithm is programmed to adapt itself to a given situation.\",\"remark\":null},\"50\":{\"question\":\"Supervised learning ...\",\"subject\":\"Machine Learning\",\"use\":\"Total Bootcamp\",\"correct\":\"A C\",\"responseA\":\"Is when the data we use to fit the model on is labeled.\",\"responseB\":\"Is when the algorithm includes steps to check the progression of the computation process.\",\"responseC\":\"Allows to predict the value or the class of a new element.\",\"responseD\":\"Allows data partitioning according to the features,distribution density estimation and dimension reduction.\",\"remark\":null},\"51\":{\"question\":\"Unsupervised learning ...\",\"subject\":\"Machine Learning\",\"use\":\"Total Bootcamp\",\"correct\":\"A C \",\"responseA\":\"Is when the data we feed to our model is not labeled.\",\"responseB\":\"Allows to predict the value or the class of a new element.\",\"responseC\":\"Allows data partitioning according to the features,distribution density estimation and dimension reduction.\",\"responseD\":null,\"remark\":null},\"52\":{\"question\":\"Classification\",\"subject\":\"Machine Learning\",\"use\":\"Total Bootcamp\",\"correct\":\"B\",\"responseA\":\"Is used when the target we aim to predict is continuous.\",\"responseB\":\"Is used when the target we aim to work on is discrete.\",\"responseC\":\"Is not a method needing artificial intelligence techniques.\",\"responseD\":null,\"remark\":null},\"53\":{\"question\":\"Regression\",\"subject\":\"Machine Learning\",\"use\":\"Total Bootcamp\",\"correct\":\"A\",\"responseA\":\"Is used when the target we aim to predict is continuous.\",\"responseB\":\"Is used when the target we aim to predict is discrete.\",\"responseC\":\"Gives the same results with two points or a thousand.\",\"responseD\":null,\"remark\":null},\"54\":{\"question\":\"Overfitting is\",\"subject\":\"Machine Learning\",\"use\":\"Total Bootcamp\",\"correct\":\"A\",\"responseA\":\"When the model fits too much the training data and don’t generalize enough.\",\"responseB\":\"When the model takes too much time to train on the data.\",\"responseC\":\"When the algorithm can\\'t store anymore the results of the fitting process.\",\"responseD\":null,\"remark\":null},\"55\":{\"question\":\"A way to handle imbalanced datasets is\",\"subject\":\"Machine Learning\",\"use\":\"Total Bootcamp\",\"correct\":\"B,C\",\"responseA\":\"Filtering\",\"responseB\":\"Under sampling\",\"responseC\":\"Over sampling\",\"responseD\":null,\"remark\":null},\"56\":{\"question\":\"Pourquoi utiliser des APIs?\",\"subject\":\"Automation\",\"use\":\"Test de validation\",\"correct\":\"D\",\"responseA\":\"Pour isoler les services de l\\'utilisateur final\",\"responseB\":\"Pour normaliser les communications entre services\",\"responseC\":\"Pour permettre une évolution facile des services\",\"responseD\":\"Tous ces points\",\"remark\":null},\"57\":{\"question\":\"En utilisant Flask, on permet à un utilisateur ou à une machine d\\'utiliser un service avec \",\"subject\":\"Automation\",\"use\":\"Test de validation\",\"correct\":\"C\",\"responseA\":\"SQL\",\"responseB\":\"Python\",\"responseC\":\"HTTP\",\"responseD\":\"Java\",\"remark\":null},\"58\":{\"question\":\"Pourquoi utiliser Docker?\",\"subject\":\"Automation\",\"use\":\"Test de validation\",\"correct\":\"D\",\"responseA\":\"Pour déployer facilement et rapidement des processus\",\"responseB\":\"Pour isoler des processus de la machine hôte\",\"responseC\":\"Pour tester des services rapidement\",\"responseD\":\"Tous ces points\",\"remark\":null},\"59\":{\"question\":\"Si on fait un parallèle avec la programmation orientée objet, les images de containers Docker sont l\\'équivalent des\",\"subject\":\"Automation\",\"use\":\"Test de validation\",\"correct\":\"A\",\"responseA\":\"Classes\",\"responseB\":\"Instances de classes\",\"responseC\":\"Méthodes\",\"responseD\":\"Objets\",\"remark\":null},\"60\":{\"question\":\"Pour faciliter le passage de fichiers entre la machine hôte et un container Docker, on peut utiliser les\",\"subject\":\"Automation\",\"use\":\"Test de validation\",\"correct\":\"C\",\"responseA\":\"Images\",\"responseB\":\"Networks\",\"responseC\":\"Volumes\",\"responseD\":\"Containers\",\"remark\":null},\"61\":{\"question\":\"Pour faciliter la communication entre la machine hôte et un container Docker, on peut utiliser les\",\"subject\":\"Automation\",\"use\":\"Test de validation\",\"correct\":\"B\",\"responseA\":\"Images\",\"responseB\":\"Networks\",\"responseC\":\"Volumes\",\"responseD\":\"Containers\",\"remark\":null},\"62\":{\"question\":\"Quelle commande permet de lancer un container Docker ?\",\"subject\":\"Automation\",\"use\":\"Test de validation\",\"correct\":\"B\",\"responseA\":\"docker image run nom_de_l_image\",\"responseB\":\"docker container run nom_de_l_image\",\"responseC\":\"docker image pull nom_de_l_image\",\"responseD\":\"docker container pull nom_de_l_image\",\"remark\":null},\"63\":{\"question\":\"A quoi sert Docker-Compose ?\",\"subject\":\"Automation\",\"use\":\"Test de validation\",\"correct\":\"A\",\"responseA\":\"A répertorier les images publiques de containers\",\"responseB\":\"A déployer plusieurs containers en même temps\",\"responseC\":\"A créer sa propre image Docker\",\"responseD\":\"Tous ces points\",\"remark\":null},\"64\":{\"question\":\"A quoi sert Docker-Compose ?\",\"subject\":\"Automation\",\"use\":\"Test de validation\",\"correct\":\"B\",\"responseA\":\"A répertorier les images publiques de containers\",\"responseB\":\"A déployer plusieurs containers en même temps\",\"responseC\":\"A créer sa propre image Docker\",\"responseD\":\"Tous ces points\",\"remark\":null},\"65\":{\"question\":\"Dans Airflow, le DAG répertorie\",\"subject\":\"Automation\",\"use\":\"Test de validation\",\"correct\":\"D\",\"responseA\":\"Les tâches à effectuer\",\"responseB\":\"Les actions à prendre en cas d\\'échecs\",\"responseC\":\"L\\'enchaînement des tâches à effectuer\",\"responseD\":\"Tous ces points\",\"remark\":null},\"66\":{\"question\":\"Quelle est la différence entre le processing time et le event time ?\",\"subject\":\"Streaming de données\",\"use\":\"Test de validation\",\"correct\":\"B\",\"responseA\":\"L’un correspond au temps de début de calcul alors que l’autre correspond à la durée nécessaire pour le calcul\",\"responseB\":\"L’un correspond à l’entrée de la donnée dans le système alors que l’autre correspond à la date de création de la donnée\",\"responseC\":\"Ce sont en fait la même chose\",\"responseD\":null,\"remark\":null},\"67\":{\"question\":\"Kafka est un système de messagerie\",\"subject\":\"Streaming de données\",\"use\":\"Test de validation\",\"correct\":\"A\",\"responseA\":\"Publication\\\\/Abonnement + Asynchrone\",\"responseB\":\"Publication\\\\/Abonnement + Synchrone\",\"responseC\":\"Orienté queue + Asynchrone\",\"responseD\":\"Orienté queue+ Synchrone\",\"remark\":null},\"68\":{\"question\":\"Dans Kafka, les brokers permettent de\",\"subject\":\"Streaming de données\",\"use\":\"Test de validation\",\"correct\":null,\"responseA\":\"distribuer le stockage intermédiaire des données\",\"responseB\":\"répartir la charge du flux des données\",\"responseC\":\"prévenir les pannes du système\",\"responseD\":\"tous ces points\",\"remark\":null},\"69\":{\"question\":\"Dans Kafka, dans un consumer group, les consommateurs accédent\",\"subject\":\"Streaming de données\",\"use\":\"Test de validation\",\"correct\":null,\"responseA\":\"chacun à toutes les données disponibles\",\"responseB\":\"chacun à une partie des données relativement à sa capacité de consommation\",\"responseC\":\"chacun à une partie des données, réparti de manière uniforme\",\"responseD\":null,\"remark\":null},\"70\":{\"question\":\"Quelle est la différence entre Hadoop et Spark?\",\"subject\":\"Streaming de données\",\"use\":\"Test de validation\",\"correct\":null,\"responseA\":\"Hadoop est un système de calcul et de stockage alors que Spark n’est qu’un système de calcul\",\"responseB\":\"Spark est écrit en Scala alors que Hadoop est écrit en Java\",\"responseC\":\"Spark écrit les valeurs en mémoire alors que Hadoop les écrit sur disque\",\"responseD\":\"Tous ces points\",\"remark\":null},\"71\":{\"question\":\"Quelle librairie de Spark n’existe pas ?\",\"subject\":\"Streaming de données\",\"use\":\"Test de validation\",\"correct\":null,\"responseA\":\"SparkSQL\",\"responseB\":\"SparkML\",\"responseC\":\"Spark Streaming\",\"responseD\":\"Spark IO\",\"remark\":null},\"72\":{\"question\":\"Que signigie RDD ?\",\"subject\":\"Streaming de données\",\"use\":\"Test de validation\",\"correct\":null,\"responseA\":\"Raw distributed dataset\",\"responseB\":\"Redundant Distributed Dataset\",\"responseC\":\"Resilient Distributed DataSet\",\"responseD\":null,\"remark\":null},\"73\":{\"question\":\"Qu’est-ce que le DAG ?\",\"subject\":\"Streaming de données\",\"use\":\"Test de validation\",\"correct\":null,\"responseA\":\"Une représentation des tâches à exécuter\",\"responseB\":\"Un dispositif qui permet d’optimiser les claculs\",\"responseC\":null,\"responseD\":null,\"remark\":null},\"74\":{\"question\":\"Les Dstreams sont définis par\",\"subject\":\"Streaming de données\",\"use\":\"Test de validation\",\"correct\":null,\"responseA\":\"Une limite de temps\",\"responseB\":\"Une limite d’espace\",\"responseC\":\"Une limite déterminée aléatoirement\",\"responseD\":\"Tous ces points\",\"remark\":null},\"75\":{\"question\":\"Dans HBase, les données sont stockées par\",\"subject\":\"Streaming de données\",\"use\":\"Test de validation\",\"correct\":null,\"responseA\":\"Lignes\",\"responseB\":\"Familles de colonnes\",\"responseC\":\"Clefs\",\"responseD\":null,\"remark\":null}}'"
      ]
     },
     "execution_count": 8,
     "metadata": {},
     "output_type": "execute_result"
    }
   ],
   "source": [
    "questions_db.to_json(orient=\"index\", force_ascii=False)"
   ]
  }
 ],
 "metadata": {
  "kernelspec": {
   "display_name": "Python 3.9.2 64-bit",
   "language": "python",
   "name": "python3"
  },
  "language_info": {
   "codemirror_mode": {
    "name": "ipython",
    "version": 3
   },
   "file_extension": ".py",
   "mimetype": "text/x-python",
   "name": "python",
   "nbconvert_exporter": "python",
   "pygments_lexer": "ipython3",
   "version": "3.9.2"
  },
  "orig_nbformat": 4,
  "vscode": {
   "interpreter": {
    "hash": "31f2aee4e71d21fbe5cf8b01ff0e069b9275f58929596ceb00d14d90e3e16cd6"
   }
  }
 },
 "nbformat": 4,
 "nbformat_minor": 2
}
