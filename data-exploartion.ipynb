{
 "cells": [
  {
   "cell_type": "code",
   "execution_count": 12,
   "metadata": {},
   "outputs": [],
   "source": [
    "import pandas as pd\n"
   ]
  },
  {
   "cell_type": "code",
   "execution_count": 13,
   "metadata": {},
   "outputs": [
    {
     "data": {
      "text/html": [
       "<div>\n",
       "<style scoped>\n",
       "    .dataframe tbody tr th:only-of-type {\n",
       "        vertical-align: middle;\n",
       "    }\n",
       "\n",
       "    .dataframe tbody tr th {\n",
       "        vertical-align: top;\n",
       "    }\n",
       "\n",
       "    .dataframe thead th {\n",
       "        text-align: right;\n",
       "    }\n",
       "</style>\n",
       "<table border=\"1\" class=\"dataframe\">\n",
       "  <thead>\n",
       "    <tr style=\"text-align: right;\">\n",
       "      <th></th>\n",
       "      <th>question</th>\n",
       "      <th>subject</th>\n",
       "      <th>use</th>\n",
       "      <th>correct</th>\n",
       "      <th>responseA</th>\n",
       "      <th>responseB</th>\n",
       "      <th>responseC</th>\n",
       "      <th>responseD</th>\n",
       "      <th>remark</th>\n",
       "    </tr>\n",
       "  </thead>\n",
       "  <tbody>\n",
       "    <tr>\n",
       "      <th>0</th>\n",
       "      <td>Que signifie le sigle No-SQL ?</td>\n",
       "      <td>BDD</td>\n",
       "      <td>Test de positionnement</td>\n",
       "      <td>A</td>\n",
       "      <td>Pas seulement SQL</td>\n",
       "      <td>Pas de SQL</td>\n",
       "      <td>Pas tout SQL</td>\n",
       "      <td>NaN</td>\n",
       "      <td>NaN</td>\n",
       "    </tr>\n",
       "    <tr>\n",
       "      <th>1</th>\n",
       "      <td>Cassandra et HBase sont des bases de données</td>\n",
       "      <td>BDD</td>\n",
       "      <td>Test de positionnement</td>\n",
       "      <td>C</td>\n",
       "      <td>relationnelles</td>\n",
       "      <td>orientées objet</td>\n",
       "      <td>orientées colonne</td>\n",
       "      <td>orientées graphe</td>\n",
       "      <td>NaN</td>\n",
       "    </tr>\n",
       "    <tr>\n",
       "      <th>2</th>\n",
       "      <td>MongoDB et CouchDB sont des bases de données</td>\n",
       "      <td>BDD</td>\n",
       "      <td>Test de positionnement</td>\n",
       "      <td>B</td>\n",
       "      <td>relationnelles</td>\n",
       "      <td>orientées objet</td>\n",
       "      <td>orientées colonne</td>\n",
       "      <td>orientées graphe</td>\n",
       "      <td>NaN</td>\n",
       "    </tr>\n",
       "    <tr>\n",
       "      <th>3</th>\n",
       "      <td>OrientDB et Neo4J sont des bases de données</td>\n",
       "      <td>BDD</td>\n",
       "      <td>Test de positionnement</td>\n",
       "      <td>D</td>\n",
       "      <td>relationnelles</td>\n",
       "      <td>orientées objet</td>\n",
       "      <td>orientées colonne</td>\n",
       "      <td>orientées graphe</td>\n",
       "      <td>NaN</td>\n",
       "    </tr>\n",
       "    <tr>\n",
       "      <th>4</th>\n",
       "      <td>Pour indexer des données textuelles, je peux u...</td>\n",
       "      <td>BDD</td>\n",
       "      <td>Test de positionnement</td>\n",
       "      <td>A</td>\n",
       "      <td>ElasticSearch</td>\n",
       "      <td>Neo4J</td>\n",
       "      <td>MySQL</td>\n",
       "      <td>NaN</td>\n",
       "      <td>NaN</td>\n",
       "    </tr>\n",
       "  </tbody>\n",
       "</table>\n",
       "</div>"
      ],
      "text/plain": [
       "                                            question subject  \\\n",
       "0                     Que signifie le sigle No-SQL ?     BDD   \n",
       "1       Cassandra et HBase sont des bases de données     BDD   \n",
       "2       MongoDB et CouchDB sont des bases de données     BDD   \n",
       "3        OrientDB et Neo4J sont des bases de données     BDD   \n",
       "4  Pour indexer des données textuelles, je peux u...     BDD   \n",
       "\n",
       "                      use correct          responseA        responseB  \\\n",
       "0  Test de positionnement       A  Pas seulement SQL       Pas de SQL   \n",
       "1  Test de positionnement       C     relationnelles  orientées objet   \n",
       "2  Test de positionnement       B     relationnelles  orientées objet   \n",
       "3  Test de positionnement       D     relationnelles  orientées objet   \n",
       "4  Test de positionnement       A      ElasticSearch            Neo4J   \n",
       "\n",
       "           responseC         responseD remark  \n",
       "0       Pas tout SQL               NaN    NaN  \n",
       "1  orientées colonne  orientées graphe    NaN  \n",
       "2  orientées colonne  orientées graphe    NaN  \n",
       "3  orientées colonne  orientées graphe    NaN  \n",
       "4              MySQL               NaN    NaN  "
      ]
     },
     "execution_count": 13,
     "metadata": {},
     "output_type": "execute_result"
    }
   ],
   "source": [
    "df = pd.read_csv(\"https://dst-de.s3.eu-west-3.amazonaws.com/fastapi_fr/questions.csv\", sep=\",\", header=0)\n",
    "\n",
    "df.head()\n"
   ]
  },
  {
   "cell_type": "code",
   "execution_count": 15,
   "metadata": {},
   "outputs": [
    {
     "data": {
      "text/plain": [
       "subject               use                   \n",
       "Automation            Test de validation        10\n",
       "Classification        Test de validation        10\n",
       "Streaming de données  Test de validation        10\n",
       "Systèmes distribués   Test de validation         9\n",
       "Data Science          Total Bootcamp             8\n",
       "Machine Learning      Total Bootcamp             7\n",
       "Systèmes distribués   Test de positionnement     7\n",
       "BDD                   Test de positionnement     6\n",
       "Docker                Test de positionnement     5\n",
       "Streaming de données  Test de positionnement     3\n",
       "Sytèmes distribués    Test de validation         1\n",
       "dtype: int64"
      ]
     },
     "execution_count": 15,
     "metadata": {},
     "output_type": "execute_result"
    }
   ],
   "source": [
    "df[[\"subject\", \"use\"]].value_counts()"
   ]
  }
 ],
 "metadata": {
  "kernelspec": {
   "display_name": "Python 3.9.2 64-bit",
   "language": "python",
   "name": "python3"
  },
  "language_info": {
   "codemirror_mode": {
    "name": "ipython",
    "version": 3
   },
   "file_extension": ".py",
   "mimetype": "text/x-python",
   "name": "python",
   "nbconvert_exporter": "python",
   "pygments_lexer": "ipython3",
   "version": "3.9.2"
  },
  "orig_nbformat": 4,
  "vscode": {
   "interpreter": {
    "hash": "31f2aee4e71d21fbe5cf8b01ff0e069b9275f58929596ceb00d14d90e3e16cd6"
   }
  }
 },
 "nbformat": 4,
 "nbformat_minor": 2
}
